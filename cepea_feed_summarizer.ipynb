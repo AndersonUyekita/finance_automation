{
 "cells": [
  {
   "cell_type": "code",
   "execution_count": 1,
   "id": "96aa0d3a-4dba-441d-834a-e7287370fb4d",
   "metadata": {},
   "outputs": [],
   "source": [
    "import os\n",
    "import pandas as pd\n",
    "import time\n",
    "from transformers import pipeline"
   ]
  },
  {
   "cell_type": "code",
   "execution_count": 2,
   "id": "c96b3d64-c38e-4bed-942e-8928f4dc827b",
   "metadata": {},
   "outputs": [],
   "source": [
    "# Construir o caminho completo para o arquivo CSV\n",
    "base_dir = os.getcwd() + \"//01-data/\"  # Diretório atual\n",
    "\n",
    "# Carregar o DataFrame de Feed a partir do arquivo CSV\n",
    "df = pd.read_csv(os.path.join(base_dir, '2024-08-11 cepea_feed_database.csv'), encoding='utf-8-sig')"
   ]
  },
  {
   "cell_type": "code",
   "execution_count": 3,
   "id": "be5e9bf9-1e46-4e24-ab05-11e01e5b6670",
   "metadata": {},
   "outputs": [],
   "source": [
    "# Convertendo Data em tipo Data.\n",
    "df['Data'] = pd.to_datetime(df['Data'])"
   ]
  },
  {
   "cell_type": "code",
   "execution_count": 4,
   "id": "252e235a-ff9b-4739-96f7-6532547ddf68",
   "metadata": {},
   "outputs": [
    {
     "data": {
      "text/html": [
       "<div>\n",
       "<style scoped>\n",
       "    .dataframe tbody tr th:only-of-type {\n",
       "        vertical-align: middle;\n",
       "    }\n",
       "\n",
       "    .dataframe tbody tr th {\n",
       "        vertical-align: top;\n",
       "    }\n",
       "\n",
       "    .dataframe thead th {\n",
       "        text-align: right;\n",
       "    }\n",
       "</style>\n",
       "<table border=\"1\" class=\"dataframe\">\n",
       "  <thead>\n",
       "    <tr style=\"text-align: right;\">\n",
       "      <th></th>\n",
       "      <th>Data</th>\n",
       "      <th>Produto</th>\n",
       "      <th>Título</th>\n",
       "      <th>URL</th>\n",
       "      <th>Texto</th>\n",
       "    </tr>\n",
       "  </thead>\n",
       "  <tbody>\n",
       "    <tr>\n",
       "      <th>0</th>\n",
       "      <td>2024-08-05</td>\n",
       "      <td>AÇÚCAR/CEPEA</td>\n",
       "      <td>Com baixa liquidez, preços têm leve queda</td>\n",
       "      <td>https://www.cepea.esalq.usp.br/br/diarias-de-m...</td>\n",
       "      <td>Cepea, 06/08/2024 – A liquidez no mercado spot...</td>\n",
       "    </tr>\n",
       "    <tr>\n",
       "      <th>1</th>\n",
       "      <td>2024-08-05</td>\n",
       "      <td>ETANOL/CEPEA</td>\n",
       "      <td>Vendas ultrapassam 100 milhões de litros, e hi...</td>\n",
       "      <td>https://www.cepea.esalq.usp.br/br/diarias-de-m...</td>\n",
       "      <td>Cepea, 06/08/2024 – O preço do etanol hidratad...</td>\n",
       "    </tr>\n",
       "    <tr>\n",
       "      <th>2</th>\n",
       "      <td>2024-07-29</td>\n",
       "      <td>ETANOL/CEPEA</td>\n",
       "      <td>Indicadores caem 3% em SP</td>\n",
       "      <td>https://www.cepea.esalq.usp.br/br/diarias-de-m...</td>\n",
       "      <td>Cepea, 30/07/2024 – Os preços dos etanóis anid...</td>\n",
       "    </tr>\n",
       "    <tr>\n",
       "      <th>3</th>\n",
       "      <td>2024-07-29</td>\n",
       "      <td>AÇÚCAR/CEPEA</td>\n",
       "      <td>Vendas internas voltam a remunerar mais que ex...</td>\n",
       "      <td>https://www.cepea.esalq.usp.br/br/diarias-de-m...</td>\n",
       "      <td>Cepea, 30/07/2024 – Cálculos do Cepea mostram ...</td>\n",
       "    </tr>\n",
       "    <tr>\n",
       "      <th>4</th>\n",
       "      <td>2024-07-22</td>\n",
       "      <td>AÇÚCAR/CEPEA</td>\n",
       "      <td>Preços sobem mesmo com baixa liquidez</td>\n",
       "      <td>https://www.cepea.esalq.usp.br/br/diarias-de-m...</td>\n",
       "      <td>Cepea, 23/07/2024 – A liquidez seguiu baixa no...</td>\n",
       "    </tr>\n",
       "    <tr>\n",
       "      <th>5</th>\n",
       "      <td>2024-07-22</td>\n",
       "      <td>ETANOL/CEPEA</td>\n",
       "      <td>Demanda retraída interrompe altas; anidro recua</td>\n",
       "      <td>https://www.cepea.esalq.usp.br/br/diarias-de-m...</td>\n",
       "      <td>Cepea, 23/07/2024 – Depois de subir por cinco ...</td>\n",
       "    </tr>\n",
       "    <tr>\n",
       "      <th>6</th>\n",
       "      <td>2024-07-15</td>\n",
       "      <td>AÇÚCAR/CEPEA</td>\n",
       "      <td>Baixa liquidez pressiona cotações</td>\n",
       "      <td>https://www.cepea.esalq.usp.br/br/diarias-de-m...</td>\n",
       "      <td>Cepea, 16/07/2024 – O mercado spot de açúcar c...</td>\n",
       "    </tr>\n",
       "    <tr>\n",
       "      <th>7</th>\n",
       "      <td>2024-07-15</td>\n",
       "      <td>ETANOL/CEPEA</td>\n",
       "      <td>Hidratado sobe mais 5% e anidro, 6% na semana</td>\n",
       "      <td>https://www.cepea.esalq.usp.br/br/diarias-de-m...</td>\n",
       "      <td>Cepea, 16/07/2024 – Levantamentos do Cepea mos...</td>\n",
       "    </tr>\n",
       "    <tr>\n",
       "      <th>8</th>\n",
       "      <td>2024-07-09</td>\n",
       "      <td>ETANOL/CEPEA</td>\n",
       "      <td>Demanda aquecida e vendedor firme sustentam pr...</td>\n",
       "      <td>https://www.cepea.esalq.usp.br/br/diarias-de-m...</td>\n",
       "      <td>Cepea, 09/07/2024 – Os preços dos etanóis estã...</td>\n",
       "    </tr>\n",
       "    <tr>\n",
       "      <th>9</th>\n",
       "      <td>2024-07-09</td>\n",
       "      <td>AÇÚCAR/CEPEA</td>\n",
       "      <td>Médias iniciam julho perto da estabilidade -</td>\n",
       "      <td>https://www.cepea.esalq.usp.br/br/diarias-de-m...</td>\n",
       "      <td>Cepea, 09/07/2024 – Levantamento do Cepea most...</td>\n",
       "    </tr>\n",
       "  </tbody>\n",
       "</table>\n",
       "</div>"
      ],
      "text/plain": [
       "        Data       Produto                                             Título  \\\n",
       "0 2024-08-05  AÇÚCAR/CEPEA          Com baixa liquidez, preços têm leve queda   \n",
       "1 2024-08-05  ETANOL/CEPEA  Vendas ultrapassam 100 milhões de litros, e hi...   \n",
       "2 2024-07-29  ETANOL/CEPEA                          Indicadores caem 3% em SP   \n",
       "3 2024-07-29  AÇÚCAR/CEPEA  Vendas internas voltam a remunerar mais que ex...   \n",
       "4 2024-07-22  AÇÚCAR/CEPEA              Preços sobem mesmo com baixa liquidez   \n",
       "5 2024-07-22  ETANOL/CEPEA    Demanda retraída interrompe altas; anidro recua   \n",
       "6 2024-07-15  AÇÚCAR/CEPEA                  Baixa liquidez pressiona cotações   \n",
       "7 2024-07-15  ETANOL/CEPEA      Hidratado sobe mais 5% e anidro, 6% na semana   \n",
       "8 2024-07-09  ETANOL/CEPEA  Demanda aquecida e vendedor firme sustentam pr...   \n",
       "9 2024-07-09  AÇÚCAR/CEPEA       Médias iniciam julho perto da estabilidade -   \n",
       "\n",
       "                                                 URL  \\\n",
       "0  https://www.cepea.esalq.usp.br/br/diarias-de-m...   \n",
       "1  https://www.cepea.esalq.usp.br/br/diarias-de-m...   \n",
       "2  https://www.cepea.esalq.usp.br/br/diarias-de-m...   \n",
       "3  https://www.cepea.esalq.usp.br/br/diarias-de-m...   \n",
       "4  https://www.cepea.esalq.usp.br/br/diarias-de-m...   \n",
       "5  https://www.cepea.esalq.usp.br/br/diarias-de-m...   \n",
       "6  https://www.cepea.esalq.usp.br/br/diarias-de-m...   \n",
       "7  https://www.cepea.esalq.usp.br/br/diarias-de-m...   \n",
       "8  https://www.cepea.esalq.usp.br/br/diarias-de-m...   \n",
       "9  https://www.cepea.esalq.usp.br/br/diarias-de-m...   \n",
       "\n",
       "                                               Texto  \n",
       "0  Cepea, 06/08/2024 – A liquidez no mercado spot...  \n",
       "1  Cepea, 06/08/2024 – O preço do etanol hidratad...  \n",
       "2  Cepea, 30/07/2024 – Os preços dos etanóis anid...  \n",
       "3  Cepea, 30/07/2024 – Cálculos do Cepea mostram ...  \n",
       "4  Cepea, 23/07/2024 – A liquidez seguiu baixa no...  \n",
       "5  Cepea, 23/07/2024 – Depois de subir por cinco ...  \n",
       "6  Cepea, 16/07/2024 – O mercado spot de açúcar c...  \n",
       "7  Cepea, 16/07/2024 – Levantamentos do Cepea mos...  \n",
       "8  Cepea, 09/07/2024 – Os preços dos etanóis estã...  \n",
       "9  Cepea, 09/07/2024 – Levantamento do Cepea most...  "
      ]
     },
     "execution_count": 4,
     "metadata": {},
     "output_type": "execute_result"
    }
   ],
   "source": [
    "# Visualização das 10 primeiras linhas.\n",
    "df.head(10)"
   ]
  },
  {
   "cell_type": "code",
   "execution_count": 5,
   "id": "05e36ed4-7aa7-4647-ab6a-64843da041d9",
   "metadata": {},
   "outputs": [],
   "source": [
    "# Filtro para reportagens apenas de JULHO de 2024\n",
    "df_sugar = df.query(\"(Produto == 'AÇÚCAR/CEPEA') and (Data.dt.year == 2024) and (Data.dt.month == 7)\")"
   ]
  },
  {
   "cell_type": "markdown",
   "id": "040ede88-fa0f-4f99-85c0-319bdaa9ae8e",
   "metadata": {},
   "source": []
  },
  {
   "cell_type": "code",
   "execution_count": 7,
   "id": "8e309e15-5f36-46f7-a0b8-e07fe1ad0b88",
   "metadata": {},
   "outputs": [
    {
     "data": {
      "text/plain": [
       "'Cepea, 30/07/2024 – Cálculos do Cepea mostram que, na última semana, as vendas internas de açúcar cristal voltaram a remunerar mais que as externas. Isso porque as cotações internacionais do açúcar demerara tiveram novas quedas na Bolsa de Nova York (ICE Futures); a taxa de câmbio, por sua vez, continua em patamares elevados. No mercado spot, a liquidez captada pelo Cepea seguiu praticamente estável em relação à semana anterior. Segundo pesquisadores do Cepea, compradores continuam negociando quantidades reduzidas, de acordo com a necessidade imediata, afirmando vendas no varejo ainda enfraquecidas. Além disso, esses agentes também seguem recebendo o açúcar fixado em contratos. \\xa0Fonte: Cepea (www.cepea.esalq.usp.br) Cepea, 23/07/2024 – A liquidez seguiu baixa no mercado spot paulista de açúcar cristal branco na última semana, com somente algumas poucas negociações envolvendo quantidades maiores. Apesar da lentidão, levantamento do Cepea aponta que as cotações tiveram ligeira alta nos últimos dias. Segundo pesquisadores do Cepea, os negócios envolvendo o cristal Icumsa 150, produto que vem apresentando oferta mais restrita ao longo desta temporada 2024/25, foram responsáveis por sustentar os preços médios. Entre 15 e 19 de julho, a média do Indicador CEPEA/ESALQ, cor Icumsa de 130 a 180, foi de R$ 133,48/saca de 50 kg, alta de 0,55% em relação à do período anterior. Fonte: Cepea (www.cepea.esalq.usp.br) Cepea, 16/07/2024 – O mercado spot de açúcar cristal branco no estado de São esteve lento na semana passada, com poucos fechamentos para pronta-entrega e preços enfraquecidos. Segundo pesquisadores do Cepea, a pressão veio da baixa demanda interna, tendo em vista que a oferta doméstica continua restrita, especialmente para o cristal de melhor qualidade, o Icumsa 150, e a venda ao mercado externo segue mais atrativa para as usinas. De 8 a 12 de julho, a média do Indicador CEPEA/ESALQ do cristal branco, cor Icumsa de 130 a 180, foi de R$ 132,75/sc de 50 kg, recuo de 0,37% sobre a do período anterior. No campo, a boa produtividade dos canaviais está proporcionando aumento na produção brasileira do adoçante. Segundo dados da Unica, no acumulado da atual safra 2024/25 (de 1º de abril a 1º de julho), a região Centro-Sul produziu 14,2 milhões de toneladas de açúcar, avanço de 15,7% sobre a temporada anterior. Fonte: Cepea (www.cepea.esalq.usp.br) Cepea, 09/07/2024 – Levantamento do Cepea mostra que os preços médios do açúcar cristal branco no spot de São Paulo iniciaram julho sem grandes variações, com a saca de 50 quilos oscilando entre R$ 132 e R$ 133. Segundo pesquisadores do Cepea, usinas procuraram manter firmes os valores de suas ofertas, já que a demanda se mostrou um pouco mais aquecida. Apesar das vendas estáveis para o varejo, pesquisadores do Cepea explicam que compradores adquiriram novos lotes do cristal no mercado doméstico, diante da possibilidade de valorizações maiores, com as recentes altas internacionais do açúcar demerara e da taxa de câmbio. Além disso, há rumores de que possa ocorrer quebra de safra na atual temporada de cana-de-açúcar (2024/25), devido ao clima seco predominante no estado de São Paulo, o que pode comprometer a oferta do adoçante. Fonte: Cepea (www.cepea.esalq.usp.br) Cepea, 02/07/2024 – Enquanto os preços do açúcar cristal branco no mercado spot do estado de São Paulo encerraram junho em queda, as cotações externas subiram. Como resultado, levantamento do Cepea aponta que as vendas domésticas perderam vantagem sobre as exportações, cenário não era visto desde a primeira semana oficial da safra 2024/25, em abril. De 24 a 28 de junho, a média do Indicador do Açúcar Cristal CEPEA/ESALQ, cor Icumsa de 130 a 180, foi de R$ 134,31/saca de 50 kg, e a das cotações do contrato nº 11 da ICE Futures (vencimento Julho/24), de R$ 144,59/sc. Assim, as vendas externas remuneraram 7,65% a mais do que o spot paulista. Segundo pesquisadores do Cepea, a pressão sobre as cotações domésticas vem da demanda enfraquecida. Fonte: Cepea (www.cepea.esalq.usp.br)'"
      ]
     },
     "execution_count": 7,
     "metadata": {},
     "output_type": "execute_result"
    }
   ],
   "source": [
    "# Fragmentos dos reports diários\n",
    "daily_reports = df_sugar.Texto\n",
    "\n",
    "# Combinar todos os fragmentos em um único texto\n",
    "combined_reports = \" \".join(daily_reports)\n",
    "\n",
    "combined_reports"
   ]
  },
  {
   "cell_type": "code",
   "execution_count": 8,
   "id": "6567bd30-515c-4182-9202-b504698548a7",
   "metadata": {},
   "outputs": [
    {
     "name": "stderr",
     "output_type": "stream",
     "text": [
      "C:\\Users\\ander\\anaconda3\\Lib\\site-packages\\transformers\\tokenization_utils_base.py:1601: FutureWarning: `clean_up_tokenization_spaces` was not set. It will be set to `True` by default. This behavior will be depracted in transformers v4.45, and will be then set to `False` by default. For more details check this issue: https://github.com/huggingface/transformers/issues/31884\n",
      "  warnings.warn(\n",
      "Hardware accelerator e.g. GPU is available in the environment, but no `device` argument is passed to the `Pipeline` object. Model will be on CPU.\n"
     ]
    },
    {
     "name": "stdout",
     "output_type": "stream",
     "text": [
      "Ocorreu um erro durante a sumarização: index out of range in self\n"
     ]
    }
   ],
   "source": [
    "# Inicializar o pipeline de sumarização\n",
    "summarizer = pipeline(\"summarization\", model=\"facebook/bart-large-cnn\")\n",
    "\n",
    "# Realizar a sumarização com ajustes\n",
    "try:\n",
    "    summary = summarizer(combined_reports, max_length=100, min_length=30, do_sample=False, clean_up_tokenization_spaces=True)\n",
    "    print(\"Resumo:\", summary[0]['summary_text'])\n",
    "except Exception as e:\n",
    "    print(\"Ocorreu um erro durante a sumarização:\", str(e))"
   ]
  }
 ],
 "metadata": {
  "kernelspec": {
   "display_name": "Python 3 (ipykernel)",
   "language": "python",
   "name": "python3"
  },
  "language_info": {
   "codemirror_mode": {
    "name": "ipython",
    "version": 3
   },
   "file_extension": ".py",
   "mimetype": "text/x-python",
   "name": "python",
   "nbconvert_exporter": "python",
   "pygments_lexer": "ipython3",
   "version": "3.12.4"
  }
 },
 "nbformat": 4,
 "nbformat_minor": 5
}
