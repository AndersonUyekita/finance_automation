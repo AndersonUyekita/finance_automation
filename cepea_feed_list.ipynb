{
 "cells": [
  {
   "cell_type": "markdown",
   "id": "fb6f60c9-161e-45e2-a7b8-18583ef5240e",
   "metadata": {},
   "source": [
    "# CEPEA - Web Scraping - Diárias do Mercado - Açúcar e Etanol\n",
    "\n",
    "Esse _script_ visa obter todos os URL da seção \"Diárias do Mercado\" do website do CEPEA que possua algum boletim sobre Açúcar ou Etanol.\n",
    "\n",
    "* **Observação:** Esse ele deve ser executado apenas uma única vez para criar o banco de dados inicial."
   ]
  },
  {
   "cell_type": "markdown",
   "id": "c301ffa1-d26c-4e2d-9464-2be5f57d6f6c",
   "metadata": {},
   "source": [
    "## 1. Estratégia\n",
    "\n",
    "Todas as \"Diárias do Mercado\" que iniciarem com as expressões: `AÇÚCAR/CEPEA` ou `ETANOL/CEPEA` serão armazenadas.\n",
    "\n",
    "## 2. Requisitos\n",
    "\n",
    "Parte do site usa `JavaScript`, por este motivo, não será possível obter as informações somente usando a biblioteca [Beautiful Soup](https://pypi.org/project/beautifulsoup4/) (`bsf4`). Foi necessário a utilização do [Selenium](https://pypi.org/project/selenium/) para iterar entre as páginas do _feed_.\n",
    "\n",
    "### 2.1. Bibliotecas\n",
    "\n",
    "Conforme já supracitado iremos usar o Selenium.\n",
    "\n",
    "* `Selenium`: Acesso às informações via web browser do Chrome;\n",
    "* `pandas`: Maninupalação de dataframe, e;\n",
    "* `time`: Manipulação de datas."
   ]
  },
  {
   "cell_type": "code",
   "execution_count": null,
   "id": "6490a783-bba0-49a0-a488-45ee8e807981",
   "metadata": {},
   "outputs": [],
   "source": [
    "from selenium import webdriver\n",
    "from selenium.webdriver.common.by import By\n",
    "import pandas as pd\n",
    "import os\n",
    "import time"
   ]
  },
  {
   "cell_type": "markdown",
   "id": "40c6d9ce-ba5a-4cc9-93bf-8738c36a73e9",
   "metadata": {},
   "source": [
    "## 3. Inicialização das Variáveis"
   ]
  },
  {
   "cell_type": "code",
   "execution_count": null,
   "id": "f881f52d-ebc0-43be-87f1-bdc113e42207",
   "metadata": {},
   "outputs": [],
   "source": [
    "# Base URL com a estrutura do site\n",
    "base_url = \"https://www.cepea.esalq.usp.br/br/diarias-de-mercado/acucar-cepea-com-baixa-liquidez-precos-tem-leve-queda.aspx?pagina={}\"\n",
    "\n",
    "# Listas para armazenar os dados\n",
    "dates = []\n",
    "products = []\n",
    "titles = []\n",
    "links = []"
   ]
  },
  {
   "cell_type": "markdown",
   "id": "2a83db45-5d11-45db-830e-393399876c72",
   "metadata": {},
   "source": [
    "## 4. Função\n",
    "\n",
    "Checagem das publicações pertencem a `AÇÚCAR/CEPEA` ou `ETANOL/CEPEA`."
   ]
  },
  {
   "cell_type": "code",
   "execution_count": null,
   "id": "2f6d62b7-bfda-4ea5-8105-f5c9b2829c9d",
   "metadata": {},
   "outputs": [],
   "source": [
    "# Função para verificar se um título pertence aos produtos de interesse\n",
    "def is_product_of_interest(title):\n",
    "    return title.startswith(\"AÇÚCAR/CEPEA\") or title.startswith(\"ETANOL/CEPEA\")"
   ]
  },
  {
   "cell_type": "markdown",
   "id": "a82fa5ba-6de7-48c0-a731-3da518e303ee",
   "metadata": {},
   "source": [
    "## 5. Web Driver\n",
    "\n",
    "Abre o navegador `Chrome` e inicia a navegação para aquisição dos URLs."
   ]
  },
  {
   "cell_type": "code",
   "execution_count": null,
   "id": "ce2cec45-3f2d-4f9c-a2d9-fda3a20c57ab",
   "metadata": {},
   "outputs": [],
   "source": [
    "# Configuração do WebDriver (certifique-se de que o chromedriver está no PATH ou forneça o caminho completo)\n",
    "driver = webdriver.Chrome()\n",
    "\n",
    "# Iterar pelas páginas de 1 a 84\n",
    "for page in range(1, 85):\n",
    "    # Construir a URL da página atual\n",
    "    url = base_url.format(page)\n",
    "    \n",
    "    # Navegar para a página\n",
    "    driver.get(url)\n",
    "    \n",
    "    # Esperar alguns segundos para garantir que o JS carregue o conteúdo\n",
    "    time.sleep(5)  # Ajuste o tempo de acordo com a velocidade de carregamento da página\n",
    "    \n",
    "    # Encontrar o div com os links\n",
    "    try:\n",
    "        div = driver.find_element(By.CLASS_NAME, 'imagenet-listagem-texto')\n",
    "        \n",
    "        # Encontrar todos os links dentro do div\n",
    "        link_tags = div.find_elements(By.CLASS_NAME, 'box-texto-relacionado')\n",
    "        \n",
    "        for link_tag in link_tags:\n",
    "            link = link_tag.get_attribute('href')\n",
    "            title_span = link_tag.find_element(By.TAG_NAME, 'span').text.strip()\n",
    "            title = link_tag.text.strip().split(' - ')[1]  # Extrai o título\n",
    "            \n",
    "            # Verificar se o título pertence a AÇÚCAR/CEPEA ou ETANOL/CEPEA\n",
    "            if is_product_of_interest(title):\n",
    "                # Determinar o produto baseado no título\n",
    "                if title.startswith(\"AÇÚCAR/CEPEA\"):\n",
    "                    product = \"AÇÚCAR/CEPEA\"\n",
    "                    title = title.replace(\"AÇÚCAR/CEPEA: \", \"\")\n",
    "                elif title.startswith(\"ETANOL/CEPEA\"):\n",
    "                    product = \"ETANOL/CEPEA\"\n",
    "                    title = title.replace(\"ETANOL/CEPEA: \", \"\")\n",
    "                \n",
    "                # Extrair a data\n",
    "                pub_date = link_tag.find_element(By.CLASS_NAME, 'data').text.strip()\n",
    "                \n",
    "                # Adicionar os dados às listas\n",
    "                dates.append(pub_date)\n",
    "                products.append(product)\n",
    "                titles.append(title)\n",
    "                links.append(link)\n",
    "    except Exception as e:\n",
    "        print(f\"Erro ao processar a página {page}: {e}\")\n",
    "\n",
    "# Fechar o navegador\n",
    "driver.quit()"
   ]
  },
  {
   "cell_type": "markdown",
   "id": "bace194a-aa53-4076-a165-0a192c0a99c1",
   "metadata": {},
   "source": [
    "## 6. DataFrame\n",
    "\n",
    "Cria o dataframe `df` que será usado para exportação."
   ]
  },
  {
   "cell_type": "code",
   "execution_count": null,
   "id": "c2dd41f3-214f-4c87-973a-0d27155162db",
   "metadata": {},
   "outputs": [],
   "source": [
    "# Criar o DataFrame com os dados coletados\n",
    "df = pd.DataFrame({\n",
    "    'Data': dates,\n",
    "    'Produto': products,\n",
    "    'Título': titles,\n",
    "    'URL': links\n",
    "})\n",
    "\n",
    "df.head()"
   ]
  },
  {
   "cell_type": "markdown",
   "id": "32885cdf-4e42-4f78-af36-775de038fdfa",
   "metadata": {},
   "source": [
    "## 3. Exportação\n",
    "\n",
    "Cria o arquivo inicial com URL, data e título."
   ]
  },
  {
   "cell_type": "code",
   "execution_count": null,
   "id": "604e40e9-2c42-4110-8aa4-d8ebd5c00054",
   "metadata": {},
   "outputs": [],
   "source": [
    "# Caminho completo para o arquivo de exportação\n",
    "file_path = os.path.join(\"01-data\", time.strftime('%Y-%m-%d') + ' ' + 'cepea_feed_list.csv')\n",
    "\n",
    "# Exporta na pasta 01-data\n",
    "df.to_csv(file_path, index=False, encoding='utf-8-sig')"
   ]
  }
 ],
 "metadata": {
  "kernelspec": {
   "display_name": "Python 3 (ipykernel)",
   "language": "python",
   "name": "python3"
  },
  "language_info": {
   "codemirror_mode": {
    "name": "ipython",
    "version": 3
   },
   "file_extension": ".py",
   "mimetype": "text/x-python",
   "name": "python",
   "nbconvert_exporter": "python",
   "pygments_lexer": "ipython3",
   "version": "3.12.4"
  }
 },
 "nbformat": 4,
 "nbformat_minor": 5
}
