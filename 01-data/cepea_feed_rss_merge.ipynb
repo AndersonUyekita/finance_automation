{
 "cells": [
  {
   "cell_type": "markdown",
   "id": "77530ec2-ce2b-46e6-9d24-d9bc1ae1bddb",
   "metadata": {},
   "source": [
    "# CEPEA - Merge RSS e Feed\n",
    "\n",
    "É um _script_ para juntar as duas bases em uma única.\n",
    "\n",
    "Será usado também uma única fez para fazer a importação inicial."
   ]
  },
  {
   "cell_type": "code",
   "execution_count": 2,
   "id": "ec5dbd1f-2f8c-40ea-9f09-935065615854",
   "metadata": {},
   "outputs": [],
   "source": [
    "import os\n",
    "import pandas as pd\n",
    "import time"
   ]
  },
  {
   "cell_type": "markdown",
   "id": "583d070e-b8d1-4662-80ae-51adc43928e5",
   "metadata": {},
   "source": [
    "## 1. Bases\n",
    "\n",
    "Carrega as bases do Feed e do RSS."
   ]
  },
  {
   "cell_type": "code",
   "execution_count": 4,
   "id": "49802a0b-3d5b-4d25-8a05-7615196ee94f",
   "metadata": {},
   "outputs": [],
   "source": [
    "# Construir o caminho completo para o arquivo CSV\n",
    "base_dir = os.getcwd()  # Diretório atual\n",
    "\n",
    "# Carregar o DataFrame de Feed a partir do arquivo CSV\n",
    "df_feed = pd.read_csv(os.path.join(base_dir, '2024-08-11 cepea_feed_list.csv'), encoding='utf-8-sig')\n",
    "\n",
    "# Carregar o DataFrame de RSS a partir do arquivo CSV\n",
    "df_rss = pd.read_csv(os.path.join(base_dir, '2024-08-11 cepea_rss.csv'), encoding='utf-8-sig')"
   ]
  },
  {
   "cell_type": "markdown",
   "id": "7a61fde0-7e22-4a4b-ad3c-d2a70a430030",
   "metadata": {},
   "source": [
    "## 2. Limpeza\n",
    "\n",
    "Remove as linhas desnecessárias que estão em duplicatas com a RSS e Feed."
   ]
  },
  {
   "cell_type": "code",
   "execution_count": 6,
   "id": "48e028eb-a97e-4ad9-8123-fcd2598d31c4",
   "metadata": {},
   "outputs": [],
   "source": [
    "# Removendo as duplicatas. NÃO TEM COMO FAZER AUTOMÁTICO AQUI.\n",
    "df_feed = df_feed.iloc[7:]"
   ]
  },
  {
   "cell_type": "markdown",
   "id": "6a42d7e8-7add-4f40-bb9d-532c07b2dbb9",
   "metadata": {},
   "source": [
    "### 2.1. Conversão de Data"
   ]
  },
  {
   "cell_type": "code",
   "execution_count": 8,
   "id": "2cee9f9c-848f-4781-b0d9-f5f7de67bb5a",
   "metadata": {},
   "outputs": [],
   "source": [
    "# Supondo que 'df_feed' seja o seu DataFrame\n",
    "# Resetar os índices para evitar problemas com cópias e vistas\n",
    "df_feed = df_feed.reset_index(drop=True)\n",
    "\n",
    "# Converter todos os valores da coluna \"Data\" para strings\n",
    "df_feed['Data'] = df_feed['Data'].astype(str)\n",
    "\n",
    "# Remover o hífen e espaços extras do final das strings na coluna \"Data\"\n",
    "df_feed['Data'] = df_feed['Data'].str.replace(' -', '', regex=False)\n",
    "\n",
    "# Converter as datas para o formato datetime\n",
    "df_feed['Data'] = pd.to_datetime(df_feed['Data'], format='%d/%m/%Y', errors='coerce')\n",
    "\n",
    "# Formatar as datas no padrão 'YYYY-MM-DD'\n",
    "df_feed['Data'] = df_feed['Data'].dt.strftime('%Y-%m-%d')"
   ]
  },
  {
   "cell_type": "code",
   "execution_count": 9,
   "id": "ab90b3ea-3038-4ea8-9389-2a6ecbfc85c6",
   "metadata": {},
   "outputs": [],
   "source": [
    "# Supondo que 'df_rss' seja o seu DataFrame\n",
    "# Converter as strings de data para objetos datetime\n",
    "df_rss['Data'] = pd.to_datetime(df_rss['Data'], format='%a, %d %b %Y %H:%M:%S %z', errors='coerce')\n",
    "\n",
    "# Extrair apenas a data no formato 'YYYY-MM-DD'\n",
    "df_rss['Data'] = df_rss['Data'].dt.strftime('%Y-%m-%d')"
   ]
  },
  {
   "cell_type": "markdown",
   "id": "54e50fa6-4b35-44b4-9e54-95208a731706",
   "metadata": {},
   "source": [
    "## 3. Merge"
   ]
  },
  {
   "cell_type": "code",
   "execution_count": 11,
   "id": "2d6fc111-ce86-493e-bcd3-efe6c49636b3",
   "metadata": {},
   "outputs": [],
   "source": [
    "df_merge = pd.concat([df_rss, df_feed], axis=0)"
   ]
  },
  {
   "cell_type": "code",
   "execution_count": 12,
   "id": "b4459808-9cf1-4cfc-9db7-2cf215881168",
   "metadata": {},
   "outputs": [],
   "source": [
    "# Converter todas as datas para datetime\n",
    "df_merge['Data'] = pd.to_datetime(df_merge['Data'], errors='coerce')  # 'errors=\"coerce\"' trata entradas inválidas\n",
    "\n",
    "# Formatar as datas para o formato 'YYYY-MM-DD'\n",
    "df_merge['Data'] = df_merge['Data'].dt.strftime('%Y-%m-%d')"
   ]
  },
  {
   "cell_type": "code",
   "execution_count": 13,
   "id": "aeea50ea-4b8c-4ca3-bf47-78fe6a80b0b3",
   "metadata": {},
   "outputs": [],
   "source": [
    "## 4. Visualização"
   ]
  },
  {
   "cell_type": "code",
   "execution_count": 14,
   "id": "d623cd9f-af9c-4afe-8b36-1eef44aac4fa",
   "metadata": {},
   "outputs": [
    {
     "data": {
      "text/html": [
       "<div>\n",
       "<style scoped>\n",
       "    .dataframe tbody tr th:only-of-type {\n",
       "        vertical-align: middle;\n",
       "    }\n",
       "\n",
       "    .dataframe tbody tr th {\n",
       "        vertical-align: top;\n",
       "    }\n",
       "\n",
       "    .dataframe thead th {\n",
       "        text-align: right;\n",
       "    }\n",
       "</style>\n",
       "<table border=\"1\" class=\"dataframe\">\n",
       "  <thead>\n",
       "    <tr style=\"text-align: right;\">\n",
       "      <th></th>\n",
       "      <th>Data</th>\n",
       "      <th>Produto</th>\n",
       "      <th>Título</th>\n",
       "      <th>URL</th>\n",
       "    </tr>\n",
       "  </thead>\n",
       "  <tbody>\n",
       "    <tr>\n",
       "      <th>0</th>\n",
       "      <td>2024-08-05</td>\n",
       "      <td>AÇÚCAR/CEPEA</td>\n",
       "      <td>Com baixa liquidez, preços têm leve queda</td>\n",
       "      <td>https://www.cepea.esalq.usp.br/br/diarias-de-m...</td>\n",
       "    </tr>\n",
       "    <tr>\n",
       "      <th>1</th>\n",
       "      <td>2024-08-05</td>\n",
       "      <td>ETANOL/CEPEA</td>\n",
       "      <td>Vendas ultrapassam 100 milhões de litros, e hi...</td>\n",
       "      <td>https://www.cepea.esalq.usp.br/br/diarias-de-m...</td>\n",
       "    </tr>\n",
       "    <tr>\n",
       "      <th>2</th>\n",
       "      <td>2024-07-29</td>\n",
       "      <td>ETANOL/CEPEA</td>\n",
       "      <td>Indicadores caem 3% em SP</td>\n",
       "      <td>https://www.cepea.esalq.usp.br/br/diarias-de-m...</td>\n",
       "    </tr>\n",
       "    <tr>\n",
       "      <th>3</th>\n",
       "      <td>2024-07-29</td>\n",
       "      <td>AÇÚCAR/CEPEA</td>\n",
       "      <td>Vendas internas voltam a remunerar mais que ex...</td>\n",
       "      <td>https://www.cepea.esalq.usp.br/br/diarias-de-m...</td>\n",
       "    </tr>\n",
       "    <tr>\n",
       "      <th>4</th>\n",
       "      <td>2024-07-22</td>\n",
       "      <td>AÇÚCAR/CEPEA</td>\n",
       "      <td>Preços sobem mesmo com baixa liquidez</td>\n",
       "      <td>https://www.cepea.esalq.usp.br/br/diarias-de-m...</td>\n",
       "    </tr>\n",
       "  </tbody>\n",
       "</table>\n",
       "</div>"
      ],
      "text/plain": [
       "         Data       Produto  \\\n",
       "0  2024-08-05  AÇÚCAR/CEPEA   \n",
       "1  2024-08-05  ETANOL/CEPEA   \n",
       "2  2024-07-29  ETANOL/CEPEA   \n",
       "3  2024-07-29  AÇÚCAR/CEPEA   \n",
       "4  2024-07-22  AÇÚCAR/CEPEA   \n",
       "\n",
       "                                              Título  \\\n",
       "0          Com baixa liquidez, preços têm leve queda   \n",
       "1  Vendas ultrapassam 100 milhões de litros, e hi...   \n",
       "2                          Indicadores caem 3% em SP   \n",
       "3  Vendas internas voltam a remunerar mais que ex...   \n",
       "4              Preços sobem mesmo com baixa liquidez   \n",
       "\n",
       "                                                 URL  \n",
       "0  https://www.cepea.esalq.usp.br/br/diarias-de-m...  \n",
       "1  https://www.cepea.esalq.usp.br/br/diarias-de-m...  \n",
       "2  https://www.cepea.esalq.usp.br/br/diarias-de-m...  \n",
       "3  https://www.cepea.esalq.usp.br/br/diarias-de-m...  \n",
       "4  https://www.cepea.esalq.usp.br/br/diarias-de-m...  "
      ]
     },
     "execution_count": 14,
     "metadata": {},
     "output_type": "execute_result"
    }
   ],
   "source": [
    "# Exibir o DataFrame com a coluna Data uniformizada\n",
    "df_merge.head()"
   ]
  },
  {
   "cell_type": "code",
   "execution_count": 15,
   "id": "eadef757-137b-4bf7-ba1a-a58b354bb826",
   "metadata": {},
   "outputs": [
    {
     "data": {
      "text/html": [
       "<div>\n",
       "<style scoped>\n",
       "    .dataframe tbody tr th:only-of-type {\n",
       "        vertical-align: middle;\n",
       "    }\n",
       "\n",
       "    .dataframe tbody tr th {\n",
       "        vertical-align: top;\n",
       "    }\n",
       "\n",
       "    .dataframe thead th {\n",
       "        text-align: right;\n",
       "    }\n",
       "</style>\n",
       "<table border=\"1\" class=\"dataframe\">\n",
       "  <thead>\n",
       "    <tr style=\"text-align: right;\">\n",
       "      <th></th>\n",
       "      <th>Data</th>\n",
       "      <th>Produto</th>\n",
       "      <th>Título</th>\n",
       "      <th>URL</th>\n",
       "    </tr>\n",
       "  </thead>\n",
       "  <tbody>\n",
       "    <tr>\n",
       "      <th>149</th>\n",
       "      <td>2023-01-24</td>\n",
       "      <td>ETANOL/CEPEA</td>\n",
       "      <td>Cotações seguem em queda por mais uma semana -</td>\n",
       "      <td>https://www.cepea.esalq.usp.br/br/diarias-de-m...</td>\n",
       "    </tr>\n",
       "    <tr>\n",
       "      <th>150</th>\n",
       "      <td>2023-01-17</td>\n",
       "      <td>AÇÚCAR/CEPEA</td>\n",
       "      <td>Baixas nos preços prevalecem, apesar de entres...</td>\n",
       "      <td>https://www.cepea.esalq.usp.br/br/diarias-de-m...</td>\n",
       "    </tr>\n",
       "    <tr>\n",
       "      <th>151</th>\n",
       "      <td>2023-01-17</td>\n",
       "      <td>ETANOL/CEPEA</td>\n",
       "      <td>Indicadores seguem em queda -</td>\n",
       "      <td>https://www.cepea.esalq.usp.br/br/diarias-de-m...</td>\n",
       "    </tr>\n",
       "    <tr>\n",
       "      <th>152</th>\n",
       "      <td>2023-01-10</td>\n",
       "      <td>AÇÚCAR/CEPEA</td>\n",
       "      <td>Com vendas enfraquecidas, preços recuam -</td>\n",
       "      <td>https://www.cepea.esalq.usp.br/br/diarias-de-m...</td>\n",
       "    </tr>\n",
       "    <tr>\n",
       "      <th>153</th>\n",
       "      <td>2023-01-10</td>\n",
       "      <td>ETANOL/CEPEA</td>\n",
       "      <td>Ano começa com baixa liquidez -</td>\n",
       "      <td>https://www.cepea.esalq.usp.br/br/diarias-de-m...</td>\n",
       "    </tr>\n",
       "  </tbody>\n",
       "</table>\n",
       "</div>"
      ],
      "text/plain": [
       "           Data       Produto  \\\n",
       "149  2023-01-24  ETANOL/CEPEA   \n",
       "150  2023-01-17  AÇÚCAR/CEPEA   \n",
       "151  2023-01-17  ETANOL/CEPEA   \n",
       "152  2023-01-10  AÇÚCAR/CEPEA   \n",
       "153  2023-01-10  ETANOL/CEPEA   \n",
       "\n",
       "                                                Título  \\\n",
       "149     Cotações seguem em queda por mais uma semana -   \n",
       "150  Baixas nos preços prevalecem, apesar de entres...   \n",
       "151                      Indicadores seguem em queda -   \n",
       "152          Com vendas enfraquecidas, preços recuam -   \n",
       "153                    Ano começa com baixa liquidez -   \n",
       "\n",
       "                                                   URL  \n",
       "149  https://www.cepea.esalq.usp.br/br/diarias-de-m...  \n",
       "150  https://www.cepea.esalq.usp.br/br/diarias-de-m...  \n",
       "151  https://www.cepea.esalq.usp.br/br/diarias-de-m...  \n",
       "152  https://www.cepea.esalq.usp.br/br/diarias-de-m...  \n",
       "153  https://www.cepea.esalq.usp.br/br/diarias-de-m...  "
      ]
     },
     "execution_count": 15,
     "metadata": {},
     "output_type": "execute_result"
    }
   ],
   "source": [
    "df_merge.tail()"
   ]
  },
  {
   "cell_type": "markdown",
   "id": "4429e32a-a401-40b6-a01a-b02ec4c305f8",
   "metadata": {},
   "source": [
    "## 4. Exportação"
   ]
  },
  {
   "cell_type": "code",
   "execution_count": 17,
   "id": "6f2ba3c5-0155-47e0-b858-ff650c3317b0",
   "metadata": {},
   "outputs": [],
   "source": [
    "# Exporta na pasta 01-data\n",
    "df_merge.to_csv(time.strftime('%Y-%m-%d') + ' ' + 'cepea_feed_rss_merge.csv', index=False, encoding='utf-8-sig')"
   ]
  }
 ],
 "metadata": {
  "kernelspec": {
   "display_name": "Python 3 (ipykernel)",
   "language": "python",
   "name": "python3"
  },
  "language_info": {
   "codemirror_mode": {
    "name": "ipython",
    "version": 3
   },
   "file_extension": ".py",
   "mimetype": "text/x-python",
   "name": "python",
   "nbconvert_exporter": "python",
   "pygments_lexer": "ipython3",
   "version": "3.12.4"
  }
 },
 "nbformat": 4,
 "nbformat_minor": 5
}
