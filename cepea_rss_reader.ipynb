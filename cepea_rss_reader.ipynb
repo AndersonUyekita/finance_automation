{
 "cells": [
  {
   "cell_type": "markdown",
   "id": "3f4e2db5-8cca-44f1-9739-5126789d3a2b",
   "metadata": {},
   "source": [
    "# Leitor de RSS - CEPEA\n",
    "\n",
    "Esse _script_ faz a leitura do RSS para ver as últimas publicações do CEPEA.\n",
    "\n",
    "O RSS possui uma limitação de meses, portanto, só as últimas notícias estarão nela."
   ]
  },
  {
   "cell_type": "markdown",
   "id": "e71f21fd-1f9a-49b9-bafc-7f065e9c4c10",
   "metadata": {},
   "source": [
    "## 1. Funcionamento\n",
    "\n",
    "Por ser feito em [Beautiful Soup](https://pypi.org/project/beautifulsoup4/) (`bs4`) é computacionalmente mais leve e fácil de trabalhar.\n",
    "\n",
    "## 2. Requisitos\n",
    "\n",
    "Será utilizado o [requests](https://pypi.org/project/requests/) para o acesso [HTPP](https://pt.wikipedia.org/wiki/Hypertext_Transfer_Protocol) e o Beautiful Soup para ler as informações contidas no site.\n",
    "\n",
    "### 2.1. Bibliotecas\n",
    "\n",
    "* `requests`: Acesso a sites por HTTP;\n",
    "* Beautiful Soup (`bsf4`): Interpretação do site;\n",
    "* `pandas`: Criação e manuseio de dataframes, e;\n",
    "* `os`: Navegação entre as pastas do sistema operacional."
   ]
  },
  {
   "cell_type": "code",
   "execution_count": null,
   "id": "e8896f70-ce7c-4888-a39d-b854ce2ef92e",
   "metadata": {},
   "outputs": [],
   "source": [
    "# Importação das bibliotecas (packages)\n",
    "import requests\n",
    "from bs4 import BeautifulSoup\n",
    "import pandas as pd\n",
    "import os\n",
    "import time"
   ]
  },
  {
   "cell_type": "markdown",
   "id": "85f85b0c-3f94-4406-88be-e01958f03793",
   "metadata": {},
   "source": [
    "## 3. Inicialização das Variáveis\n",
    "\n",
    "O URL base do RSS do CEPEA:\n",
    "\n",
    "* http://www.cepea.esalq.usp.br/rss.php"
   ]
  },
  {
   "cell_type": "code",
   "execution_count": null,
   "id": "f22c3d88-5642-4dcb-a659-4f0867f3b833",
   "metadata": {},
   "outputs": [],
   "source": [
    "# URL do feed RSS\n",
    "rss_url = \"http://www.cepea.esalq.usp.br/rss.php\""
   ]
  },
  {
   "cell_type": "markdown",
   "id": "ed3c95c9-a6b0-412e-973f-dca318d84724",
   "metadata": {},
   "source": [
    "## 4. Configuração do `requests`"
   ]
  },
  {
   "cell_type": "code",
   "execution_count": null,
   "id": "226ffdb7-b907-47cf-a02f-ac8a9b39df18",
   "metadata": {},
   "outputs": [],
   "source": [
    "# Definir um cabeçalho User-Agent\n",
    "headers = {\n",
    "    \"User-Agent\": \"Mozilla/5.0 (Windows NT 10.0; Win64; x64) AppleWebKit/537.36 (KHTML, like Gecko) Chrome/58.0.3029.110 Safari/537.36\"\n",
    "}"
   ]
  },
  {
   "cell_type": "markdown",
   "id": "85ec495a-a230-4fa2-ab8b-abe00753f931",
   "metadata": {},
   "source": [
    "## 5. Leitura do Feed"
   ]
  },
  {
   "cell_type": "code",
   "execution_count": null,
   "id": "d66fa374-d04c-459f-a326-b87d1375a89f",
   "metadata": {},
   "outputs": [],
   "source": [
    "# Fazer a requisição com o cabeçalho modificado\n",
    "response = requests.get(rss_url, headers=headers)\n",
    "\n",
    "# Verificar se a requisição foi bem sucedida\n",
    "if response.status_code == 200:\n",
    "    # Parsear o conteúdo XML do RSS com o BeautifulSoup\n",
    "    soup = BeautifulSoup(response.content, 'xml')\n",
    "    # Extrair os itens do feed\n",
    "    items = soup.find_all('item')\n",
    "\n",
    "    # Listas para armazenar os dados\n",
    "    dates = []\n",
    "    products = []\n",
    "    titles = []\n",
    "    links = []\n",
    "\n",
    "    # Filtrar e coletar os dados que começam com \"AÇÚCAR/CEPEA\" ou \"ETANOL/CEPEA\"\n",
    "    for item in items:\n",
    "        title = item.find('title').text\n",
    "        link = item.find('link').text\n",
    "        pub_date = item.find('pubDate').text\n",
    "        \n",
    "        if title.startswith(\"AÇÚCAR/CEPEA\"):\n",
    "            product = \"AÇÚCAR/CEPEA\"\n",
    "            title = title.replace(\"AÇÚCAR/CEPEA: \", \"\")\n",
    "        elif title.startswith(\"ETANOL/CEPEA\"):\n",
    "            product = \"ETANOL/CEPEA\"\n",
    "            title = title.replace(\"ETANOL/CEPEA: \", \"\")\n",
    "        else:\n",
    "            continue\n",
    "        \n",
    "        dates.append(pub_date)\n",
    "        products.append(product)\n",
    "        titles.append(title)\n",
    "        links.append(link)\n",
    "\n",
    "    # Criar o DataFrame\n",
    "    df = pd.DataFrame({\n",
    "        'Data': dates,\n",
    "        'Produto': products,\n",
    "        'Título': titles,\n",
    "        'URL': links\n",
    "    })\n",
    "\n",
    "else:\n",
    "    print(f\"Erro: {response.status_code} - Não foi possível acessar o feed RSS.\")"
   ]
  },
  {
   "cell_type": "markdown",
   "id": "e655b636-add2-4f15-8f5c-601bdf25cea8",
   "metadata": {},
   "source": [
    "## 6. Visualização Tabular do RSS\n",
    "\n",
    "As primeiras 5 linhas da tabela."
   ]
  },
  {
   "cell_type": "code",
   "execution_count": null,
   "id": "1d4e2c6a-f5ce-46a1-a7bf-1cc3ed6acf96",
   "metadata": {},
   "outputs": [],
   "source": [
    "# Primeiras 5 linhas da tabela\n",
    "df.head(5)"
   ]
  },
  {
   "cell_type": "markdown",
   "id": "5ca074e0-9e33-460a-b34f-05b027d35657",
   "metadata": {},
   "source": [
    "## 7. Exportação"
   ]
  },
  {
   "cell_type": "code",
   "execution_count": null,
   "id": "f966d078-51ba-453c-b049-81468b8e7249",
   "metadata": {},
   "outputs": [],
   "source": [
    "# Caminho completo para o arquivo de exportação\n",
    "file_path = os.path.join(\"01-data\", time.strftime('%Y-%m-%d') + ' ' + 'cepea_rss.csv')\n",
    "\n",
    "# Exporta na pasta 01-data\n",
    "df.to_csv(file_path, index=False, encoding='utf-8-sig')"
   ]
  }
 ],
 "metadata": {
  "kernelspec": {
   "display_name": "Python 3 (ipykernel)",
   "language": "python",
   "name": "python3"
  },
  "language_info": {
   "codemirror_mode": {
    "name": "ipython",
    "version": 3
   },
   "file_extension": ".py",
   "mimetype": "text/x-python",
   "name": "python",
   "nbconvert_exporter": "python",
   "pygments_lexer": "ipython3",
   "version": "3.12.4"
  }
 },
 "nbformat": 4,
 "nbformat_minor": 5
}
